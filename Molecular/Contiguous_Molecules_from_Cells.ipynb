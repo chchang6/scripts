{
 "cells": [
  {
   "cell_type": "code",
   "execution_count": 1,
   "metadata": {},
   "outputs": [],
   "source": [
    "import numpy as np\n",
    "from scipy import spatial"
   ]
  },
  {
   "cell_type": "code",
   "execution_count": 2,
   "metadata": {},
   "outputs": [],
   "source": [
    "class Molecule():\n",
    "    def __init__(self, elements, coords):\n",
    "        self.elements = elements\n",
    "        self.coords = coords\n",
    "    def get_elements(self):\n",
    "        return self.elements\n",
    "    def get_coords(self):\n",
    "        return self.coords"
   ]
  },
  {
   "cell_type": "code",
   "execution_count": 3,
   "metadata": {},
   "outputs": [],
   "source": [
    "def get_next_molecule(c, e, d, threshold=2.0):\n",
    "    # Choose molecule belonging to index 0\n",
    "    atoms_in = [0]\n",
    "    while True:\n",
    "        #print(atoms_in)\n",
    "        length_in = len(atoms_in)\n",
    "        atoms_out = atoms_in.copy()\n",
    "        for i in atoms_in:\n",
    "            t = d[i,:]\n",
    "            indices = np.nonzero(t <= threshold)\n",
    "            atoms_out.extend(indices[0])\n",
    "        atoms_out = list(set(atoms_out))#; print(atoms_out)\n",
    "        length_out = len(atoms_out)\n",
    "        if length_in == length_out:\n",
    "            break\n",
    "        else:\n",
    "            atoms_in = atoms_out\n",
    "    # Now have indices in current frame, extract data from structures\n",
    "    d_out = np.delete(d, atoms_out, axis = 0); d_out = np.delete(d_out, atoms_out, axis = 1)\n",
    "    c_out = np.delete(c, atoms_out, axis = 0)\n",
    "    mol_out = Molecule([e[i] for i in atoms_out], [c[i] for i in atoms_out])\n",
    "    e_out = e\n",
    "    for i in sorted(atoms_out, reverse=True):\n",
    "        e_out.pop(i)\n",
    "    return(mol_out, c_out, e_out, d_out)"
   ]
  },
  {
   "cell_type": "code",
   "execution_count": 4,
   "metadata": {},
   "outputs": [],
   "source": [
    "file = open('TMS-Tet.gjf', 'r')\n",
    "data = file.readlines()\n",
    "file.close()"
   ]
  },
  {
   "cell_type": "code",
   "execution_count": 5,
   "metadata": {},
   "outputs": [
    {
     "name": "stdout",
     "output_type": "stream",
     "text": [
      "[' 1848\\n', ' 1849\\n', ' 1850\\n', ' 1851\\n', ' 1852\\n', ' 1853\\n']\n"
     ]
    }
   ],
   "source": [
    "print(data[-10:-4])"
   ]
  },
  {
   "cell_type": "code",
   "execution_count": 6,
   "metadata": {},
   "outputs": [],
   "source": [
    "# The following assumes that the GJF file has coordinates starting on line 7 (6 when 0-indexed),\n",
    "#    and there is a blank line between Cartesians and Connectivity data\n",
    "coord_start_line= 6\n",
    "coords = []; atoms = []; i = coord_start_line; test = 'placeholder'\n",
    "while True:\n",
    "    test = data[i]\n",
    "    if test == '\\n': break\n",
    "    t = test.strip().split()\n",
    "    atoms.append(t[0])\n",
    "    coords.append(t[1:])\n",
    "    i += 1\n",
    "a = np.array(coords, np.float)\n",
    "dm = spatial.distance_matrix(a, a)"
   ]
  },
  {
   "cell_type": "code",
   "execution_count": 7,
   "metadata": {},
   "outputs": [],
   "source": [
    "distance_threshold = 2.0\n",
    "molecules = []\n",
    "coords = a; elements = atoms; distances = dm\n",
    "while distances.shape[0] > 0:\n",
    "    molecule, coords, elements, distances = get_next_molecule(coords, elements, distances, distance_threshold)\n",
    "    molecules.append(molecule)\n",
    "    #print(len(molecules))"
   ]
  },
  {
   "cell_type": "code",
   "execution_count": 8,
   "metadata": {},
   "outputs": [
    {
     "name": "stdout",
     "output_type": "stream",
     "text": [
      "Largest atomic count for molecular fragment is 58\n",
      "Number of such fragments is 10\n"
     ]
    }
   ],
   "source": [
    "full_molecule_numatoms = max([len(i.get_elements()) for i in molecules])\n",
    "num_full_molecules = [len(i.get_elements()) for i in molecules].count(full_molecule_numatoms)\n",
    "print(\"Largest atomic count for molecular fragment is {}\".format(full_molecule_numatoms))\n",
    "print(\"Number of such fragments is {}\".format(num_full_molecules))"
   ]
  },
  {
   "cell_type": "code",
   "execution_count": 9,
   "metadata": {},
   "outputs": [],
   "source": [
    "def write_xyz(fn, numatoms, nummols, molecules):\n",
    "    file = open(fn + '.xyz', 'w')\n",
    "    file.write(\"{}\\n\".format(str(numatoms*nummols)))\n",
    "    file.write(\"Test of fragment output for threshold {:3.1f}\\n\".format(distance_threshold))\n",
    "    for i in molecules:\n",
    "        if len(i.get_elements()) == numatoms:\n",
    "            t1 = i.get_elements()\n",
    "            t2 = i.get_coords()\n",
    "            for j in range(numatoms):            \n",
    "                #print(\"{:5s}{:10.6f}{:10.6f}{:10.6f}\".format(t1[j], t2[j][0], t2[j][1], t2[j][2]))\n",
    "                file.write(\"{:5s}{:10.6f}{:10.6f}{:10.6f}\\n\".format(t1[j], t2[j][0], t2[j][1], t2[j][2]))\n",
    "    file.close()\n",
    "    return\n",
    "\n",
    "def write_gjf(fn, numatoms, nummols, molecules):\n",
    "    file = open(fn + '.gjf', 'w')\n",
    "    file.write(\"# RHF/6-31G*\\n\\nTest of fragment output for threshold {:3.1f}\\n\\n0 1\\n\".format(distance_threshold))\n",
    "    for i in molecules:\n",
    "        if len(i.get_elements()) == numatoms:\n",
    "            t1 = i.get_elements()\n",
    "            t2 = i.get_coords()\n",
    "            for j in range(numatoms):            \n",
    "                #print(\"{:5s}{:10.6f}{:10.6f}{:10.6f}\".format(t1[j], t2[j][0], t2[j][1], t2[j][2]))\n",
    "                file.write(\"{:5s}{:10.6f}{:10.6f}{:10.6f}\\n\".format(t1[j], t2[j][0], t2[j][1], t2[j][2]))\n",
    "    file.write('\\n')\n",
    "    file.close()    "
   ]
  },
  {
   "cell_type": "code",
   "execution_count": 12,
   "metadata": {},
   "outputs": [],
   "source": [
    "write_xyz('test', full_molecule_numatoms, num_full_molecules, molecules)"
   ]
  },
  {
   "cell_type": "code",
   "execution_count": 11,
   "metadata": {},
   "outputs": [
    {
     "name": "stdout",
     "output_type": "stream",
     "text": [
      "1: 36\n",
      "2: 24\n",
      "3: 18\n",
      "4: 8\n",
      "7: 4\n",
      "9: 12\n",
      "10: 2\n",
      "12: 2\n",
      "13: 4\n",
      "16: 8\n",
      "22: 2\n",
      "23: 2\n",
      "26: 2\n",
      "32: 2\n",
      "35: 4\n",
      "50: 8\n",
      "58: 10\n"
     ]
    }
   ],
   "source": [
    "atom_counts = [len(i.get_elements()) for i in molecules]\n",
    "for i in sorted(list(set(atom_counts))):\n",
    "   print(\"{}: {}\".format(i, atom_counts.count(i)))"
   ]
  }
 ],
 "metadata": {
  "kernelspec": {
   "display_name": "Python 3",
   "language": "python",
   "name": "python3"
  },
  "language_info": {
   "codemirror_mode": {
    "name": "ipython",
    "version": 3
   },
   "file_extension": ".py",
   "mimetype": "text/x-python",
   "name": "python",
   "nbconvert_exporter": "python",
   "pygments_lexer": "ipython3",
   "version": "3.7.4"
  }
 },
 "nbformat": 4,
 "nbformat_minor": 2
}
